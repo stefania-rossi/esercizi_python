{
  "cells": [
    {
      "cell_type": "markdown",
      "metadata": {
        "id": "n_4IfQaj4GkT"
      },
      "source": [
        "## Chiamate http in serie, con thread e process\n",
        "\n",
        "\n",
        "La libreria Python requests è comunemente utilizzata per inviare richieste a server web e per ricevere le relative risposte.\n"
      ]
    },
    {
      "cell_type": "markdown",
      "metadata": {
        "id": "KR0f1A0Ymjjq"
      },
      "source": [
        "## Panoramica delle caratteristiche principali di requests:\n",
        "\n",
        "\n",
        "* **Semplicità d'uso**: requests offre un'API molto intuitiva, che permette di effettuare richieste HTTP con poche linee di codice.\n",
        "\n",
        "* **Supporto per i metodi HTTP**: Puoi utilizzare i vari metodi HTTP come GET, POST, PUT, DELETE, etc. per interagire con risorse web.\n",
        "\n",
        "* **Gestione automatica delle sessioni**: requests gestisce automaticamente le sessioni HTTP, mantenendo i cookie e le informazioni di autenticazione tra le richieste, se necessario.\n",
        "\n",
        "* **Gestione dei parametri**: Puoi includere parametri nelle tue richieste, come ad esempio i parametri di query string per le richieste GET.\n",
        "\n",
        "* **Gestione degli header**: È possibile personalizzare gli header HTTP delle richieste, inclusi header comuni come User-Agent, Content-Type, etc.\n",
        "\n",
        "* **Gestione delle risposte**: requests facilita l'accesso ai dati della risposta HTTP, come il contenuto della risposta, i codici di stato, gli header e molto altro.\n",
        "\n",
        "* **Supporto per HTTPS e autenticazione:** La libreria supporta HTTPS in modo nativo e offre metodi per l'autenticazione, come l'autenticazione di base e l'uso di token."
      ]
    },
    {
      "cell_type": "code",
      "execution_count": null,
      "metadata": {
        "id": "I_I0Rd1nmjQL"
      },
      "outputs": [],
      "source": []
    },
    {
      "cell_type": "code",
      "execution_count": null,
      "metadata": {
        "colab": {
          "base_uri": "https://localhost:8080/"
        },
        "id": "65iSJv8I3Lf8",
        "outputId": "33a9c146-a22d-49f4-9c21-0e2c08fe5f54"
      },
      "outputs": [
        {
          "name": "stdout",
          "output_type": "stream",
          "text": [
            "OK  https://www.example.com\n"
          ]
        }
      ],
      "source": [
        "import requests\n",
        "\n",
        "def effettua_request(url):\n",
        "    try:\n",
        "        response = requests.get(url)  # Effettua la richiesta GET all'URL specificato\n",
        "        response.raise_for_status()  # Solleva un'eccezione in caso di errore nella risposta\n",
        "        #print(\"Risposta:\", response.text)  # Stampa il contenuto della risposta\n",
        "        print(\"OK \",url)\n",
        "\n",
        "    except requests.exceptions.RequestException as e:\n",
        "        print(\"Errore durante la richiesta:\", e)\n",
        "        #serve come meccanismo di sicurezza per evitare che errori\n",
        "        #durante la richiesta HTTP facciano crashare il programma.\n",
        "\n",
        "# Esempio di utilizzo\n",
        "url = \"https://www.example.com\"  # URL di esempio\n",
        "effettua_request(url)\n"
      ]
    },
    {
      "cell_type": "markdown",
      "metadata": {
        "id": "oDmpA0t_zHWg"
      },
      "source": [
        "\n",
        "### Eccezioni nel codice:\n",
        "1. **`requests.exceptions.RequestException`**:\n",
        "   - Questa è la classe base per tutte le eccezioni sollevate dal modulo `requests`. `RequestException` cattura qualsiasi tipo di errore che possa verificarsi durante la richiesta HTTP (sia in fase di connessione che nella risposta ricevuta).\n",
        "   \n",
        "2. **Cosa succede nel `try`?**\n",
        "   - La funzione `requests.get(url)` invia la richiesta GET all'URL specificato.\n",
        "   - Se la richiesta ha successo e ricevi una risposta, `response.raise_for_status()` è una chiamata che verifica se lo status code della risposta è un errore (ad esempio, 404 per \"Not Found\" o 500 per \"Internal Server Error\"). Se lo status code non è di successo (compreso tra 200 e 299), viene sollevata un'eccezione `HTTPError`.\n",
        "   \n",
        "3. **Cosa succede nel `except`?**\n",
        "   - Se si verifica un errore durante la richiesta (ad esempio, se non c'è connessione a Internet, l'URL è errato, o c'è un errore HTTP), l'eccezione `RequestException` verrà catturata dal blocco `except`.\n",
        "   - L'errore specifico che ha causato il fallimento della richiesta viene passato alla variabile `e`, e stampato il messaggio di errore con `print(\"Errore durante la richiesta:\", e)`.\n",
        "\n",
        "### Tipi di errori che possono essere sollevati e catturati:\n",
        "1. **`requests.exceptions.Timeout`**: L'errore si verifica quando il server impiega troppo tempo per rispondere (timeout).\n",
        "2. **`requests.exceptions.TooManyRedirects`**: L'errore si verifica quando ci sono troppe redirezioni (più di quanto consentito).\n",
        "3. **`requests.exceptions.ConnectionError`**: L'errore si verifica quando non è possibile stabilire una connessione al server.\n",
        "4. **`requests.exceptions.HTTPError`**: L'errore si verifica quando la risposta HTTP è un errore (ad esempio, status 404 o 500).\n",
        "5. **`requests.exceptions.RequestException`**: La classe base di tutte le eccezioni `requests`, che cattura tutte le altre.\n"
      ]
    },
    {
      "cell_type": "code",
      "execution_count": null,
      "metadata": {
        "id": "DgwAhkgV4k3O"
      },
      "outputs": [],
      "source": [
        "siti_web = [\n",
        "    'https://envato.com',\n",
        "    'http://amazon.com',\n",
        "    'http://facebook.com',\n",
        "    'http://google.com',\n",
        "    'http://google.fr',\n",
        "    'http://google.es',\n",
        "    'http://internet.org',\n",
        "    'http://gmail.com',\n",
        "    'http://stackoverflow.com',\n",
        "    'http://github.com',\n",
        "    'http://heroku.com',\n",
        "    'http://really-cool-available-domain.com',\n",
        "    'http://djangoproject.com',\n",
        "    'http://rubyonrails.org',\n",
        "    'http://basecamp.com',\n",
        "    'http://trello.com',\n",
        "    'http://yiiframework.com',\n",
        "    'http://shopify.com',\n",
        "    'http://another-really-interesting-domain.co',\n",
        "    'http://airbnb.com',\n",
        "    'http://instagram.com',\n",
        "    'http://snapchat.com',\n",
        "    'http://youtube.com',\n",
        "    'http://baidu.com',\n",
        "    'http://yahoo.com',\n",
        "    'http://live.com',\n",
        "    'http://linkedin.com',\n",
        "    'http://yandex.ru',\n",
        "    'http://netflix.com',\n",
        "    'http://wordpress.com',\n",
        "    'http://bing.com',\n",
        "]"
      ]
    },
    {
      "cell_type": "markdown",
      "metadata": {
        "id": "vmtzn3T75H7p"
      },
      "source": [
        "Combina i frammenti di codice sopra per effettuare le chiamate ai vari siti nella lista e confrontare i tempi di esecuzioni nella modalità seriale, con i thread e i process. Aiutati utilizzando[l'esercizio 3: dormi e macina della risorsa](https://www.elexpo.net/archivio/tps/parallelismo/La-programmazione-concorrente-parallela.pdf).\n",
        "Procedi per gradi prima effettua una semplice chiamata ad un url, poi più chiamate utilizzando la modalità seriale, e solo alla fine implementa le chiamate utilizzando un thread per ogni url.  "
      ]
    },
    {
      "cell_type": "code",
      "execution_count": null,
      "metadata": {
        "colab": {
          "base_uri": "https://localhost:8080/"
        },
        "id": "ukvwMpdSXr5Z",
        "outputId": "73f2810b-e730-49ea-e522-a3be11943750"
      },
      "outputs": [
        {
          "name": "stdout",
          "output_type": "stream",
          "text": [
            "Errore durante la richiesta: 403 Client Error: Forbidden for url: https://elements.envato.com/\n",
            "Errore durante la richiesta: 503 Server Error: Service Unavailable for url: https://www.amazon.com/\n",
            "Errore durante la richiesta: 403 Client Error: Forbidden for url: http://192.168.8.1/cgi-bin/nethserver-block.cgi?clientaddr=192.168.9.232&clientname=info5-pc13.iisvittuone.it&clientident=unknown&srcclass=default&targetgroup=blog&url=http%3A%2F%2Ffacebook.com%2F\n",
            "OK  http://google.com\n",
            "OK  http://google.fr\n",
            "OK  http://google.es\n",
            "Errore durante la richiesta: Exceeded 30 redirects.\n",
            "OK  http://gmail.com\n",
            "OK  http://stackoverflow.com\n",
            "OK  http://github.com\n",
            "OK  http://heroku.com\n",
            "Errore durante la richiesta: HTTPConnectionPool(host='really-cool-available-domain.com', port=80): Max retries exceeded with url: / (Caused by NameResolutionError(\"<urllib3.connection.HTTPConnection object at 0x0000026366B5DBE0>: Failed to resolve 'really-cool-available-domain.com' ([Errno 11001] getaddrinfo failed)\"))\n",
            "OK  http://djangoproject.com\n",
            "OK  http://rubyonrails.org\n",
            "OK  http://basecamp.com\n",
            "OK  http://trello.com\n",
            "OK  http://yiiframework.com\n",
            "OK  http://shopify.com\n",
            "Errore durante la richiesta: HTTPConnectionPool(host='another-really-interesting-domain.co', port=80): Max retries exceeded with url: / (Caused by NameResolutionError(\"<urllib3.connection.HTTPConnection object at 0x0000026366FCA270>: Failed to resolve 'another-really-interesting-domain.co' ([Errno 11001] getaddrinfo failed)\"))\n",
            "OK  http://airbnb.com\n",
            "Errore durante la richiesta: 403 Client Error: Forbidden for url: http://192.168.8.1/cgi-bin/nethserver-block.cgi?clientaddr=192.168.9.232&clientname=info5-pc13.iisvittuone.it&clientident=unknown&srcclass=default&targetgroup=social_networks&url=http%3A%2F%2Finstagram.com%2F\n",
            "Errore durante la richiesta: 403 Client Error: Forbidden for url: http://192.168.8.1/cgi-bin/nethserver-block.cgi?clientaddr=192.168.9.232&clientname=info5-pc13.iisvittuone.it&clientident=unknown&srcclass=default&targetgroup=chat&url=http%3A%2F%2Fsnapchat.com%2F\n",
            "OK  http://youtube.com\n",
            "OK  http://baidu.com\n",
            "OK  http://yahoo.com\n",
            "OK  http://live.com\n",
            "OK  http://linkedin.com\n",
            "OK  http://yandex.ru\n",
            "OK  http://netflix.com\n",
            "OK  http://wordpress.com\n",
            "OK  http://bing.com\n",
            "tempo impiegato utilizzando for: 13.940564155578613\n",
            "Errore durante la richiesta: HTTPConnectionPool(host='really-cool-available-domain.com', port=80): Max retries exceeded with url: / (Caused by NameResolutionError(\"<urllib3.connection.HTTPConnection object at 0x0000026364455550>: Failed to resolve 'really-cool-available-domain.com' ([Errno 11001] getaddrinfo failed)\"))\n",
            "Errore durante la richiesta: HTTPConnectionPool(host='another-really-interesting-domain.co', port=80): Max retries exceeded with url: / (Caused by NameResolutionError(\"<urllib3.connection.HTTPConnection object at 0x0000026366FCB3E0>: Failed to resolve 'another-really-interesting-domain.co' ([Errno 11001] getaddrinfo failed)\"))\n",
            "Errore durante la richiesta: 403 Client Error: Forbidden for url: http://192.168.8.1/cgi-bin/nethserver-block.cgi?clientaddr=192.168.9.232&clientname=info5-pc13.iisvittuone.it&clientident=unknown&srcclass=default&targetgroup=blog&url=http%3A%2F%2Ffacebook.com%2F\n",
            "OK  http://baidu.com\n",
            "Errore durante la richiesta: 403 Client Error: Forbidden for url: http://192.168.8.1/cgi-bin/nethserver-block.cgi?clientaddr=192.168.9.232&clientname=info5-pc13.iisvittuone.it&clientident=unknown&srcclass=default&targetgroup=social_networks&url=http%3A%2F%2Finstagram.com%2F\n",
            "Errore durante la richiesta: 403 Client Error: Forbidden for url: http://192.168.8.1/cgi-bin/nethserver-block.cgi?clientaddr=192.168.9.232&clientname=info5-pc13.iisvittuone.it&clientident=unknown&srcclass=default&targetgroup=chat&url=http%3A%2F%2Fsnapchat.com%2F\n",
            "OK  http://djangoproject.com\n",
            "OK  http://rubyonrails.org\n",
            "OK  http://trello.com\n",
            "Errore durante la richiesta: 403 Client Error: Forbidden for url: https://elements.envato.com/\n",
            "OK  http://github.com\n",
            "OK  http://shopify.com\n",
            "OK  http://heroku.com\n",
            "OK  http://yiiframework.com\n",
            "OK  http://yandex.ru\n",
            "OK  http://bing.com\n",
            "OK  http://basecamp.com\n",
            "OK  http://google.com\n",
            "OK  http://google.fr\n",
            "OK  http://google.es\n",
            "OK  http://live.com\n",
            "OK  http://stackoverflow.com\n",
            "OK  http://youtube.com\n",
            "OK  http://wordpress.com\n",
            "OK  http://linkedin.com\n",
            "OK  http://gmail.com\n",
            "Errore durante la richiesta: 503 Server Error: Service Unavailable for url: https://www.amazon.com/\n",
            "OK  http://yahoo.com\n",
            "OK  http://airbnb.com\n",
            "OK  http://netflix.com\n"
          ]
        }
      ],
      "source": [
        "# codice da sviluppare CON FOR\n",
        "import requests\n",
        "import time\n",
        "import os\n",
        "import threading\n",
        "from threading import Thread\n",
        "import multiprocessing\n",
        "from multiprocessing import Process\n",
        "\n",
        "siti_web = [\n",
        "    'https://envato.com',\n",
        "    'http://amazon.com',\n",
        "    'http://facebook.com',\n",
        "    'http://google.com',\n",
        "    'http://google.fr',\n",
        "    'http://google.es',\n",
        "    'http://internet.org',\n",
        "    'http://gmail.com',\n",
        "    'http://stackoverflow.com',\n",
        "    'http://github.com',\n",
        "    'http://heroku.com',\n",
        "    'http://really-cool-available-domain.com',\n",
        "    'http://djangoproject.com',\n",
        "    'http://rubyonrails.org',\n",
        "    'http://basecamp.com',\n",
        "    'http://trello.com',\n",
        "    'http://yiiframework.com',\n",
        "    'http://shopify.com',\n",
        "    'http://another-really-interesting-domain.co',\n",
        "    'http://airbnb.com',\n",
        "    'http://instagram.com',\n",
        "    'http://snapchat.com',\n",
        "    'http://youtube.com',\n",
        "    'http://baidu.com',\n",
        "    'http://yahoo.com',\n",
        "    'http://live.com',\n",
        "    'http://linkedin.com',\n",
        "    'http://yandex.ru',\n",
        "    'http://netflix.com',\n",
        "    'http://wordpress.com',\n",
        "    'http://bing.com',\n",
        "]\n",
        "\n",
        "def effettua_request(url):\n",
        "    try:\n",
        "        response = requests.get(url)  # Effettua la richiesta GET all'URL specificato\n",
        "        response.raise_for_status()  # Solleva un'eccezione in caso di errore nella risposta\n",
        "        #print(\"Risposta:\", response.text)  # Stampa il contenuto della risposta\n",
        "        print(\"OK \",url)\n",
        "\n",
        "    except requests.exceptions.RequestException as e:\n",
        "        print(\"Errore durante la richiesta:\", e)\n",
        "        #serve come meccanismo di sicurezza per evitare che errori\n",
        "        #durante la richiesta HTTP facciano crashare il programma.\n",
        "\n",
        "i=0\n",
        "if __name__ == \"__main__\":\n",
        "    start_time = time.time()\n",
        "    for _ in range(0,len(siti_web)):\n",
        "         url=siti_web[i]\n",
        "         effettua_request(url)\n",
        "         i+=1\n",
        "\n",
        "    end_time=time.time()\n",
        "    print(\"tempo impiegato utilizzando for:\" ,end_time-start_time)\n",
        "\n",
        "    start_time = time.time()\n",
        "    threads=[]\n",
        "    for url in siti_web:\n",
        "        threads.append(Thread(target=effettua_request, args=(url,)))\n",
        "    for t in threads:\n",
        "        t.start()\n",
        "    for t in threads:\n",
        "        t.join()\n",
        "\n",
        "\n",
        "    end_time=time.time()\n",
        "    print(\"tempo impiegato utilizzando i thread:\" ,(end_time- start_time))\n",
        "\n",
        "\n",
        "    \n",
        "   \n",
        "   \n",
        "\n",
        "\n"
      ]
    }
  ],
  "metadata": {
    "colab": {
      "provenance": []
    },
    "kernelspec": {
      "display_name": "Python 3",
      "name": "python3"
    },
    "language_info": {
      "codemirror_mode": {
        "name": "ipython",
        "version": 3
      },
      "file_extension": ".py",
      "mimetype": "text/x-python",
      "name": "python",
      "nbconvert_exporter": "python",
      "pygments_lexer": "ipython3",
      "version": "3.12.9"
    }
  },
  "nbformat": 4,
  "nbformat_minor": 0
}
